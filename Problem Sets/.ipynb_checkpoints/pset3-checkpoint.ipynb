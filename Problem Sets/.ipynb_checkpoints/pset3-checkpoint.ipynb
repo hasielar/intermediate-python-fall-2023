{
 "cells": [
  {
   "cell_type": "markdown",
   "metadata": {},
   "source": [
    "# PSET3 - Unit Testing"
   ]
  },
  {
   "cell_type": "markdown",
   "metadata": {},
   "source": [
    "Following along with pset2, you will take the package you created and build unit tests for it. \n",
    "\n",
    "Requirements:\n",
    "- At least two tests for each function.\n",
    "- You should use setUp() and tearDown() methods to set up and tear down your tests.\n",
    "- Create helpful print statements in your tests to let the user know what is happening.\n",
    "\n",
    "Good luck!"
   ]
  },
  {
   "cell_type": "code",
   "execution_count": 3,
   "metadata": {
    "collapsed": true,
    "jupyter": {
     "outputs_hidden": true
    },
    "tags": []
   },
   "outputs": [
    {
     "ename": "ModuleNotFoundError",
     "evalue": "No module named 'PlotlyCharts'",
     "output_type": "error",
     "traceback": [
      "\u001b[1;31m---------------------------------------------------------------------------\u001b[0m",
      "\u001b[1;31mModuleNotFoundError\u001b[0m                       Traceback (most recent call last)",
      "Input \u001b[1;32mIn [3]\u001b[0m, in \u001b[0;36m<cell line: 2>\u001b[1;34m()\u001b[0m\n\u001b[0;32m      1\u001b[0m \u001b[38;5;28;01mimport\u001b[39;00m \u001b[38;5;21;01munittest\u001b[39;00m\n\u001b[1;32m----> 2\u001b[0m \u001b[38;5;28;01mfrom\u001b[39;00m \u001b[38;5;21;01mPlotlyCharts\u001b[39;00m\u001b[38;5;21;01m.\u001b[39;00m\u001b[38;5;21;01mplotlycharts\u001b[39;00m \u001b[38;5;28;01mimport\u001b[39;00m create_bar_chart, create_scatter_chart, create_line_chart\n\u001b[0;32m      3\u001b[0m \u001b[38;5;28;01mimport\u001b[39;00m \u001b[38;5;21;01mplotly\u001b[39;00m\u001b[38;5;21;01m.\u001b[39;00m\u001b[38;5;21;01mgraph_objects\u001b[39;00m \u001b[38;5;28;01mas\u001b[39;00m \u001b[38;5;21;01mgo\u001b[39;00m\n",
      "\u001b[1;31mModuleNotFoundError\u001b[0m: No module named 'PlotlyCharts'"
     ]
    }
   ],
   "source": [
    "import unittest\n",
    "from PlotlyCharts.plotlycharts import create_bar_chart, create_scatter_chart, create_line_chart\n",
    "import plotly.graph_objects as go"
   ]
  },
  {
   "cell_type": "code",
   "execution_count": 2,
   "metadata": {
    "collapsed": true,
    "jupyter": {
     "outputs_hidden": true
    },
    "tags": []
   },
   "outputs": [
    {
     "ename": "ModuleNotFoundError",
     "evalue": "No module named 'PlotlyCharts'",
     "output_type": "error",
     "traceback": [
      "\u001b[1;31m---------------------------------------------------------------------------\u001b[0m",
      "\u001b[1;31mModuleNotFoundError\u001b[0m                       Traceback (most recent call last)",
      "Input \u001b[1;32mIn [2]\u001b[0m, in \u001b[0;36m<cell line: 2>\u001b[1;34m()\u001b[0m\n\u001b[0;32m      1\u001b[0m \u001b[38;5;28;01mimport\u001b[39;00m \u001b[38;5;21;01munittest\u001b[39;00m\n\u001b[1;32m----> 2\u001b[0m \u001b[38;5;28;01mfrom\u001b[39;00m \u001b[38;5;21;01mPlotlyCharts\u001b[39;00m\u001b[38;5;21;01m.\u001b[39;00m\u001b[38;5;21;01mplotlycharts\u001b[39;00m \u001b[38;5;28;01mimport\u001b[39;00m create_bar_chart, create_scatter_chart, create_line_chart\n\u001b[0;32m      3\u001b[0m \u001b[38;5;28;01mimport\u001b[39;00m \u001b[38;5;21;01mplotly\u001b[39;00m\u001b[38;5;21;01m.\u001b[39;00m\u001b[38;5;21;01mgraph_objects\u001b[39;00m \u001b[38;5;28;01mas\u001b[39;00m \u001b[38;5;21;01mgo\u001b[39;00m\n\u001b[0;32m      5\u001b[0m \u001b[38;5;28;01mclass\u001b[39;00m \u001b[38;5;21;01mTestPlotlyCharts\u001b[39;00m(unittest\u001b[38;5;241m.\u001b[39mTestCase):\n",
      "\u001b[1;31mModuleNotFoundError\u001b[0m: No module named 'PlotlyCharts'"
     ]
    }
   ],
   "source": [
    "class TestPlotlyCharts(unittest.TestCase):\n",
    "    def setUp(self):\n",
    "        # Set up any common resources or state needed for tests.\n",
    "        pass\n",
    "\n",
    "    def tearDown(self):\n",
    "        # Clean up after each test.\n",
    "        pass\n",
    "\n",
    "    def test_create_bar_chart(self):\n",
    "        x = [1, 2, 3, 4, 5]\n",
    "        y = [10, 15, 13, 17, 8]\n",
    "\n",
    "        bar_chart = create_bar_chart(x, y, title=\"Test Bar Chart\")\n",
    "\n",
    "        self.assertIsInstance(bar_chart, go.Figure)\n",
    "        self.assertEqual(bar_chart.data[0].x.tolist(), x)\n",
    "        self.assertEqual(bar_chart.data[0].y.tolist(), y)\n",
    "        self.assertEqual(bar_chart.layout.title.text, \"Test Bar Chart\")\n",
    "\n",
    "    def test_create_scatter_chart(self):\n",
    "        x = [1, 2, 3, 4, 5]\n",
    "        y = [10, 15, 13, 17, 8]\n",
    "\n",
    "        scatter_chart = create_scatter_chart(x, y, title=\"Test Scatter Chart\")\n",
    "\n",
    "        self.assertIsInstance(scatter_chart, go.Figure)\n",
    "        self.assertEqual(scatter_chart.data[0].x.tolist(), x)\n",
    "        self.assertEqual(scatter_chart.data[0].y.tolist(), y)\n",
    "        self.assertEqual(scatter_chart.layout.title.text, \"Test Scatter Chart\")\n",
    "\n",
    "    def test_create_line_chart(self):\n",
    "        x = [1, 2, 3, 4, 5]\n",
    "        y = [10, 15, 13, 17, 8]\n",
    "\n",
    "        line_chart = create_line_chart(x, y, title=\"Test Line Chart\")\n",
    "\n",
    "        self.assertIsInstance(line_chart, go.Figure)\n",
    "        self.assertEqual(line_chart.data[0].x.tolist(), x)\n",
    "        self.assertEqual(line_chart.data[0].y.tolist(), y)\n",
    "        self.assertEqual(line_chart.layout.title.text, \"Test Line Chart\")\n",
    "\n",
    "if __name__ == '__main__':\n",
    "    unittest.main()"
   ]
  },
  {
   "cell_type": "code",
   "execution_count": null,
   "metadata": {},
   "outputs": [],
   "source": []
  },
  {
   "cell_type": "code",
   "execution_count": null,
   "metadata": {},
   "outputs": [],
   "source": []
  },
  {
   "cell_type": "code",
   "execution_count": null,
   "metadata": {},
   "outputs": [],
   "source": []
  },
  {
   "cell_type": "code",
   "execution_count": null,
   "metadata": {},
   "outputs": [],
   "source": []
  },
  {
   "cell_type": "code",
   "execution_count": null,
   "metadata": {},
   "outputs": [],
   "source": []
  },
  {
   "cell_type": "code",
   "execution_count": null,
   "metadata": {},
   "outputs": [],
   "source": []
  }
 ],
 "metadata": {
  "kernelspec": {
   "display_name": "Python 3 (ipykernel)",
   "language": "python",
   "name": "python3"
  },
  "language_info": {
   "codemirror_mode": {
    "name": "ipython",
    "version": 3
   },
   "file_extension": ".py",
   "mimetype": "text/x-python",
   "name": "python",
   "nbconvert_exporter": "python",
   "pygments_lexer": "ipython3",
   "version": "3.8.13"
  }
 },
 "nbformat": 4,
 "nbformat_minor": 4
}
