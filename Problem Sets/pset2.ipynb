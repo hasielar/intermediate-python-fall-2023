{
 "cells": [
  {
   "cell_type": "markdown",
   "metadata": {},
   "source": [
    "# PSET2 - Software Engineering for DS"
   ]
  },
  {
   "cell_type": "markdown",
   "metadata": {},
   "source": [
    "This problem set is very open ended. You will create a local package and then demonstrate its use. This package has the following requirements:\n",
    "\n",
    "- The package should have a focus or direction (i.e. it shouldn't be a random collection of functions).\n",
    "- There should be at least three functions/methods in the package.\n",
    "- Each function should have a clear docstring.\n",
    "\n",
    "Good luck!"
   ]
  },
  {
   "cell_type": "markdown",
   "metadata": {},
   "source": [
    "mkdir PlotlyCharts\n",
    "cd PlotlyCharts\n",
    "# making packages"
   ]
  },
  {
   "cell_type": "markdown",
   "metadata": {},
   "source": [
    "mkdir plotlycharts\n",
    "touch plotlycharts/__init__.py\n",
    "touch plotlycharts/bar_chart.py\n",
    "touch plotlycharts/scatter_chart.py\n",
    "touch plotlycharts/line_chart.py\n",
    "# Putting some order for em"
   ]
  },
  {
   "cell_type": "code",
   "execution_count": 22,
   "metadata": {},
   "outputs": [],
   "source": [
    "import plotly.express as px\n",
    "\n",
    "def create_bar_chart(x, y, title=\"Bar Chart\"):\n",
    "    \"\"\"Create a bar chart using Plotly Express.\"\"\"\n",
    "    fig = px.bar(x=x, y=y, title=title)\n",
    "    return fig\n",
    "# First one cover bar charts#"
   ]
  },
  {
   "cell_type": "code",
   "execution_count": 23,
   "metadata": {},
   "outputs": [],
   "source": [
    "import plotly.express as px\n",
    "\n",
    "def create_scatter_chart(x, y, title=\"Scatter Chart\"):\n",
    "    \"\"\" Create a scatter chart using Plotly Express. \"\"\"\n",
    "    fig = px.scatter(x=x, y=y, title=title)\n",
    "    return fig\n",
    "#Secone one is scatter charts"
   ]
  },
  {
   "cell_type": "code",
   "execution_count": 24,
   "metadata": {},
   "outputs": [],
   "source": [
    "import plotly.express as px\n",
    "\n",
    "def create_line_chart(x, y, title=\"Line Chart\"):\n",
    "    \"\"\" Create a line chart using Plotly Express. \"\"\"\n",
    "    fig = px.line(x=x, y=y, title=title)\n",
    "    return fig\n",
    "#Third is line charts"
   ]
  },
  {
   "cell_type": "code",
   "execution_count": null,
   "metadata": {},
   "outputs": [],
   "source": [
    "from .bar_chart import create_bar_chart\n",
    "from .scatter_chart import create_scatter_chart\n",
    "from .line_chart import create_line_chart\n",
    "#moving em into the_Init_py "
   ]
  },
  {
   "cell_type": "code",
   "execution_count": null,
   "metadata": {},
   "outputs": [],
   "source": [
    "#Now you can use the Plotly charts package \n",
    "# Just import the package functions\n",
    "from PlotlyCharts.plotlycharts import create_bar_chart, create_scatter_chart, create_line_chart"
   ]
  },
  {
   "cell_type": "code",
   "execution_count": null,
   "metadata": {},
   "outputs": [],
   "source": [
    "x = [1, 2, 3, 4, 5]\n",
    "y = [10, 15, 13, 17, 8]\n",
    "# put in your number of choice\n",
    "bar_chart = create_bar_chart(x, y, title=\"My Bar Chart\")\n",
    "scatter_chart = create_scatter_chart(x, y, title=\"My Scatter Chart\")\n",
    "line_chart = create_line_chart(x, y, title=\"My Line Chart\")\n",
    "\n",
    "bar_chart.show()\n",
    "scatter_chart.show()\n",
    "line_chart.show()"
   ]
  }
 ],
 "metadata": {
  "kernelspec": {
   "display_name": "Python 3 (ipykernel)",
   "language": "python",
   "name": "python3"
  },
  "language_info": {
   "codemirror_mode": {
    "name": "ipython",
    "version": 3
   },
   "file_extension": ".py",
   "mimetype": "text/x-python",
   "name": "python",
   "nbconvert_exporter": "python",
   "pygments_lexer": "ipython3",
   "version": "3.8.13"
  }
 },
 "nbformat": 4,
 "nbformat_minor": 4
}
