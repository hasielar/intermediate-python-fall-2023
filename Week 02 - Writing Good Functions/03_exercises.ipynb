{
 "cells": [
  {
   "cell_type": "markdown",
   "metadata": {},
   "source": [
    "# Here's some exercises to do to improve your function writing in python\n",
    "Please refer to the [writing good functions notebook](writing_good_functions.ipynb) in order to get some guidlines.\n",
    "\n",
    "Below are the checklists to write a good function:\n",
    "- [x] Naming\n",
    "- [x] Single purpose\n",
    "- [x] Documenting\n",
    "- [x] Clear and concise\n",
    "- [x] Return value"
   ]
  },
  {
   "cell_type": "markdown",
   "metadata": {},
   "source": [
    "**Exercise 1**: Write a Python function to reverse a string. Write a simple Docstring that clearly shows the purpose of the function.\n",
    "\n",
    "Sample String : \"123456abcde\" <br>\n",
    "Expected Output : \"edcba654321\""
   ]
  },
  {
   "cell_type": "code",
<<<<<<< Updated upstream
   "execution_count": 24,
=======
   "execution_count": null,
   "metadata": {},
   "outputs": [],
   "source": [
    "def reverse_string(string):\n",
    "    \"\"\"Return string of numbers reversed\"\"\"\n",
    "    return str(string)[]"
   ]
  },
  {
   "cell_type": "code",
   "execution_count": 5,
>>>>>>> Stashed changes
   "metadata": {},
   "outputs": [],
   "source": [
    "### Exercise1: You may use numpy library\n",
    "def reverse_string(string):\n",
<<<<<<< Updated upstream
    "    \"\"\" Returns a string in reversed order \"\"\"\n",
    "    return str(string)[::-1]"
=======
    "    string = str(string)\n",
    "    char_array = np.array(list(string))\n",
    "    reversed_array = np.flip(char_array)\n",
    "    reversed_string = ''.join(reversed_array)\n",
    "    \n",
    "    return reversed_string    "
>>>>>>> Stashed changes
   ]
  },
  {
   "cell_type": "code",
<<<<<<< Updated upstream
   "execution_count": 32,
=======
   "execution_count": 6,
>>>>>>> Stashed changes
   "metadata": {},
   "outputs": [
    {
     "data": {
      "text/plain": [
       "'654321'"
      ]
     },
<<<<<<< Updated upstream
     "execution_count": 32,
=======
     "execution_count": 6,
>>>>>>> Stashed changes
     "metadata": {},
     "output_type": "execute_result"
    }
   ],
   "source": [
    "reverse_string(123456)"
   ]
  },
  {
   "cell_type": "markdown",
   "metadata": {},
   "source": [
    "**Exercise 2**: Write a Python function to print the even numbers from a given list. Write a simple Docstring that clearly shows the purpose of the function.\n",
    "\n",
    "Sample List : [1, 2, 3, 4, 5, 6, 7, 8, 9] <br>\n",
    "Expected Result : [2, 4, 6, 8]"
   ]
  },
  {
   "cell_type": "code",
<<<<<<< Updated upstream
   "execution_count": 34,
   "metadata": {},
   "outputs": [
    {
     "data": {
      "text/plain": [
       "[2, 4, 6, 8]"
      ]
     },
     "execution_count": 34,
     "metadata": {},
     "output_type": "execute_result"
    }
   ],
   "source": [
    "### Exercise 2: You may use numpy library\n",
    "def get_evens(numbers):\n",
    "    \"\"\" Returns even numbers from a given list \"\"\"\n",
    "    result = []\n",
    "    for num in numbers:\n",
    "        if num % 2 == 0:\n",
    "            # result += [num]\n",
    "            result.append(num)\n",
    "    return result\n",
    "    \n",
    "get_evens([1, 2, 3, 4, 5, 6, 7, 8, 9])"
=======
   "execution_count": 8,
   "metadata": {},
   "outputs": [
    {
     "name": "stdout",
     "output_type": "stream",
     "text": [
      "[2, 4, 6, 8]\n"
     ]
    }
   ],
   "source": [
    "def get_evens(input_list):\n",
    "    \n",
    "    even_numbers = [x for x in input_list if x % 2 == 0]\n",
    "    print(even_numbers)\n",
    "\n",
    "sample_list = [1, 2, 3, 4, 5, 6, 7, 8, 9]\n",
    "get_evens(sample_list)  # Output: [2, 4, 6, 8]\n"
>>>>>>> Stashed changes
   ]
  },
  {
   "cell_type": "markdown",
   "metadata": {},
   "source": [
    "**Exercise 3**: Write a Python function to print the max, min, and sum of the given list. Write a simple Docstring that clearly shows the purpose of the function.\n",
    "\n",
    "Sample List: [12, 30, 24, 21, 20 ,17, 28, 19, 31, 22] <br>\n",
    "Expected Output: Max: ..., Min: ..., Sum: ..."
   ]
  },
  {
   "cell_type": "code",
   "execution_count": 27,
   "metadata": {},
   "outputs": [],
   "source": [
    "### Exercise 3: You may use numpy library"
   ]
  },
  {
   "cell_type": "code",
<<<<<<< Updated upstream
   "execution_count": 37,
=======
   "execution_count": 12,
>>>>>>> Stashed changes
   "metadata": {},
   "outputs": [],
   "source": [
    "import numpy as np\n",
    "def get_stats(numbers):\n",
<<<<<<< Updated upstream
    "    \"\"\" Returns max, min, sum of a given number list \"\"\"\n",
    "    return np.max(numbers), np.min(numbers), np.sum(numbers)"
=======
    "    return np.max(numbers) , np.min(numbers), np.sum(numbers)\n"
>>>>>>> Stashed changes
   ]
  },
  {
   "cell_type": "code",
<<<<<<< Updated upstream
   "execution_count": 38,
=======
   "execution_count": 13,
>>>>>>> Stashed changes
   "metadata": {},
   "outputs": [
    {
     "data": {
      "text/plain": [
       "(31, 12, 224)"
      ]
     },
<<<<<<< Updated upstream
     "execution_count": 38,
=======
     "execution_count": 13,
>>>>>>> Stashed changes
     "metadata": {},
     "output_type": "execute_result"
    }
   ],
   "source": [
    "get_stats([12, 30, 24, 21, 20 ,17, 28, 19, 31, 22])"
<<<<<<< Updated upstream
=======
   ]
  },
  {
   "cell_type": "code",
   "execution_count": 9,
   "metadata": {},
   "outputs": [
    {
     "name": "stdout",
     "output_type": "stream",
     "text": [
      "Max: 31, Min: 12, Sum: 224\n"
     ]
    }
   ],
   "source": [
    "def analyze_list(input_list):\n",
    "    \n",
    "    max_value = max(input_list)\n",
    "    min_value = min(input_list)\n",
    "    sum_values = sum(input_list)\n",
    "    \n",
    "    print(f\"Max: {max_value}, Min: {min_value}, Sum: {sum_values}\")\n",
    "\n",
    "sample_list = [12, 30, 24, 21, 20, 17, 28, 19, 31, 22]\n",
    "analyze_list(sample_list) \n"
>>>>>>> Stashed changes
   ]
  },
  {
   "cell_type": "markdown",
   "metadata": {},
   "source": [
    "**Exercise 4**: Create a nested function to perform addition in the following way. Write a simple Docstring that clearly shows the purpose of the function.\n",
    "1. Create an outer function that will accept three parameters **a**, **b**, and **c**\n",
    "2. Create an inner function inside an outer function that will calculate the addition of **a** and **b**\n",
    "3. At last, an outer function will add **c** into addition and return it\n",
    "\n",
    "Given parameters: \n",
    "* a = 10\n",
    "* b = 5\n",
    "* c = 3\n",
    "\n",
    "Expected output: 18"
   ]
  },
  {
   "cell_type": "code",
<<<<<<< Updated upstream
   "execution_count": 40,
   "metadata": {},
   "outputs": [
    {
     "data": {
      "text/plain": [
       "6"
      ]
     },
     "execution_count": 40,
     "metadata": {},
     "output_type": "execute_result"
    }
   ],
   "source": [
    "### Exercise 4: You don't need additional library to perform this\n",
    "def get_nests(a, b, c):\n",
    "    \"\"\" Returns sum of a, b, c \"\"\"\n",
    "    def addition(a, b):\n",
    "        return a + b\n",
    "    return addition(a, b) + c\n",
    "    \n",
    "get_nests(1, 2, 3)"
=======
   "execution_count": 20,
   "metadata": {},
   "outputs": [
    {
     "data": {
      "text/plain": [
       "6"
      ]
     },
     "execution_count": 20,
     "metadata": {},
     "output_type": "execute_result"
    }
   ],
   "source": [
    "def get_nests(a,b,c):\n",
    "    def addition(a,b):\n",
    "        return a+b\n",
    "    return addition(a,b) +c\n",
    "get_nests(1,2,3)"
   ]
  },
  {
   "cell_type": "code",
   "execution_count": null,
   "metadata": {},
   "outputs": [],
   "source": []
  },
  {
   "cell_type": "code",
   "execution_count": 16,
   "metadata": {},
   "outputs": [
    {
     "name": "stdout",
     "output_type": "stream",
     "text": [
      "18\n"
     ]
    }
   ],
   "source": [
    "def perform_nested_addition(a, b, c):\n",
    "    \n",
    "    def inner_addition(x, y):\n",
    "        return x + y\n",
    "    \n",
    "    result = inner_addition(a, b)\n",
    "    result += c\n",
    "    return result\n",
    "\n",
    "a = 10\n",
    "b = 5\n",
    "c = 3\n",
    "output = perform_nested_addition(a, b, c)\n",
    "print(output)\n"
>>>>>>> Stashed changes
   ]
  },
  {
   "cell_type": "markdown",
   "metadata": {},
   "source": [
    "**Exercise 5**: Create a function that plots the histogram of the given list, and print out the simple statistics using pandas describe. Write a simple Docstring that clearly shows the purpose of the function.\n",
    "1. Plot the histogram of the given numpy array **statme** using pandas.\n",
    "2. Print the simple statistics of the **statme** array using pandas.\n",
    "3. Return the both statistics and histogram in a single run"
   ]
  },
  {
   "cell_type": "code",
   "execution_count": 29,
   "metadata": {},
   "outputs": [],
   "source": [
    "### Exercise 5: You may use numpy and pandas for this exercise\n",
    "statme = np.random.randint(1, 10, 200)\n",
    "def plotter():\n",
    "    \n"
   ]
  }
 ],
 "metadata": {
  "kernelspec": {
   "display_name": "Python 3 (ipykernel)",
   "language": "python",
   "name": "python3"
  },
  "language_info": {
   "codemirror_mode": {
    "name": "ipython",
    "version": 3
   },
   "file_extension": ".py",
   "mimetype": "text/x-python",
   "name": "python",
   "nbconvert_exporter": "python",
   "pygments_lexer": "ipython3",
   "version": "3.8.13"
  }
 },
 "nbformat": 4,
 "nbformat_minor": 4
}
