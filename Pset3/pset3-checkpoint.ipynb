{
 "cells": [
  {
   "cell_type": "markdown",
   "metadata": {},
   "source": [
    "# PSET3 - Unit Testing"
   ]
  },
  {
   "cell_type": "markdown",
   "metadata": {},
   "source": [
    "Following along with pset2, you will take the package you created and build unit tests for it. \n",
    "\n",
    "Requirements:\n",
    "- At least two tests for each function.\n",
    "- You should use setUp() and tearDown() methods to set up and tear down your tests.\n",
    "- Create helpful print statements in your tests to let the user know what is happening.\n",
    "\n",
    "Good luck!"
   ]
  },
  {
   "cell_type": "code",
   "execution_count": null,
   "metadata": {},
   "outputs": [],
   "source": [
    "import unittest\n",
    "import plotly.graph_objects as go"
   ]
  },
  {
   "cell_type": "code",
   "execution_count": null,
   "metadata": {},
   "outputs": [],
   "source": [
    "class TestPlotlyCharts(unittest.TestCase):\n",
    "    def setUp(self):\n",
    "        pass\n",
    "    def tearDown(self):\n",
    "        # This cleans after tets\n",
    "        pass"
   ]
  },
  {
   "cell_type": "markdown",
   "metadata": {},
   "source": [
    "## Testing the functions "
   ]
  },
  {
   "cell_type": "code",
   "execution_count": null,
   "metadata": {
    "tags": []
   },
   "outputs": [],
   "source": [
    "def test_create_bar_chart(self):\n",
    "        # this checks if the bar chart was made correctly\n",
    "\n",
    "        #  data for the bar chart.\n",
    "        x = [1, 2, 3, 4, 5]\n",
    "        y = [10, 15, 13, 17, 8]\n",
    "\n",
    "        # Generate a test bar chart.\n",
    "        bar_chart = create_bar_chart(x, y, title=\"Test Bar Chart\")\n",
    "\n",
    "        # Assertions to check if the bar chart is constructed correctly.\n",
    "        self.assertIsInstance(bar_chart, go.Figure)  # Check if it's a Plotly figure.\n",
    "        self.assertEqual(bar_chart.data[0].x.tolist(), x)  # Check Y and X-axis data with title\n",
    "        self.assertEqual(bar_chart.data[0].y.tolist(), y)  \n",
    "        self.assertEqual(bar_chart.layout.title.text, \"Test Bar Chart\")  \n",
    "# Same for the rest"
   ]
  },
  {
   "cell_type": "code",
   "execution_count": null,
   "metadata": {},
   "outputs": [],
   "source": [
    "def test_create_bar_chart(self):\n",
    "       \n",
    "        x = [1, 2, 3, 4, 5]\n",
    "        y = [10, 15, 13, 17, 8]\n",
    "\n",
    "        bar_chart = create_bar_chart(x, y, title=\"Test Bar Chart\")\n",
    "\n",
    "        self.assertIsInstance(bar_chart, go.Figure)  \n",
    "        self.assertEqual(bar_chart.data[0].x.tolist(), x)  \n",
    "        self.assertEqual(bar_chart.data[0].y.tolist(), y)  \n",
    "        self.assertEqual(bar_chart.layout.title.text, \"Test Bar Chart\")  \n",
    "\n",
    "    def test_create_scatter_chart(self):"
   ]
  },
  {
   "cell_type": "code",
   "execution_count": null,
   "metadata": {},
   "outputs": [],
   "source": [
    "def test_create_scatter_chart(self):\n",
    "       \n",
    "        x = [1, 2, 3, 4, 5]\n",
    "        y = [10, 15, 13, 17, 8]\n",
    "        scatter_chart = create_scatter_chart(x, y, title=\"Test Scatter Chart\")\n",
    "\n",
    "        self.assertIsInstance(scatter_chart, go.Figure)  \n",
    "        self.assertEqual(scatter_chart.data[0].x.tolist(), x)  \n",
    "        self.assertEqual(scatter_chart.data[0].y.tolist(), y)  \n",
    "        self.assertEqual(scatter_chart.layout.title.text, \"Test Scatter Chart\")  "
   ]
  },
  {
   "cell_type": "code",
   "execution_count": null,
   "metadata": {
    "tags": []
   },
   "outputs": [],
   "source": [
    "def test_create_line_chart(self):\n",
    "       \n",
    "        x = [1, 2, 3, 4, 5]\n",
    "        y = [10, 15, 13, 17, 8]\n",
    "\n",
    "        line_chart = create_line_chart(x, y, title=\"Test Line Chart\")\n",
    "\n",
    "        self.assertIsInstance(line_chart, go.Figure)  \n",
    "        self.assertEqual(line_chart.data[0].x.tolist(), x)  \n",
    "        self.assertEqual(line_chart.data[0].y.tolist(), y)  \n",
    "        self.assertEqual(line_chart.layout.title.text, \"Test Line Chart\")  "
   ]
  },
  {
   "cell_type": "code",
   "execution_count": null,
   "metadata": {},
   "outputs": [],
   "source": [
    "if __name__ == '__main__':\n",
    "    unittest.main()"
   ]
  },
  {
   "cell_type": "code",
   "execution_count": null,
   "metadata": {},
   "outputs": [],
   "source": []
  },
  {
   "cell_type": "markdown",
   "metadata": {
    "tags": []
   },
   "source": [
    "Sorry I am doing this on a friends notebook "
   ]
  },
  {
   "cell_type": "code",
   "execution_count": null,
   "metadata": {},
   "outputs": [],
   "source": []
  },
  {
   "cell_type": "code",
   "execution_count": null,
   "metadata": {},
   "outputs": [],
   "source": []
  }
 ],
 "metadata": {
  "kernelspec": {
   "display_name": "Python 3 (ipykernel)",
   "language": "python",
   "name": "python3"
  },
  "language_info": {
   "codemirror_mode": {
    "name": "ipython",
    "version": 3
   },
   "file_extension": ".py",
   "mimetype": "text/x-python",
   "name": "python",
   "nbconvert_exporter": "python",
   "pygments_lexer": "ipython3",
   "version": "3.8.13"
  }
 },
 "nbformat": 4,
 "nbformat_minor": 4
}
